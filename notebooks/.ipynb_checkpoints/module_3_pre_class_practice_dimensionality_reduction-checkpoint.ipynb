{
 "cells": [
  {
   "cell_type": "markdown",
   "metadata": {
    "id": "PaBH22wZq7K2"
   },
   "source": [
    "# **Dimensionality Reduction**\n",
    "Week 3 — live class coding 💻"
   ]
  },
  {
   "cell_type": "markdown",
   "metadata": {
    "id": "PKgFPLwWq7K4"
   },
   "source": [
    "# Setup 📋"
   ]
  },
  {
   "cell_type": "code",
   "execution_count": 3,
   "metadata": {
    "id": "5fv10Ljgq7K5"
   },
   "outputs": [],
   "source": [
    "import warnings\n",
    "warnings.filterwarnings('ignore')\n",
    "\n",
    "# Python ≥3.5 is required\n",
    "import sys\n",
    "assert sys.version_info >= (3, 5)\n",
    "\n",
    "# Scikit-Learn ≥0.20 is required\n",
    "import sklearn\n",
    "assert sklearn.__version__ >= \"0.20\"\n",
    "\n",
    "# Common imports\n",
    "import numpy as np\n",
    "import os\n",
    "\n",
    "# to make this notebook's output stable across runs\n",
    "np.random.seed(42)\n",
    "\n",
    "# To plot pretty figures\n",
    "%matplotlib inline\n",
    "import matplotlib as mpl\n",
    "import matplotlib.pyplot as plt\n",
    "mpl.rc('axes', labelsize=14)\n",
    "mpl.rc('xtick', labelsize=12)\n",
    "mpl.rc('ytick', labelsize=12)\n",
    "\n",
    "# Where to save the figures\n",
    "PROJECT_ROOT_DIR = \".\"\n",
    "CHAPTER_ID = \"dim_reduction\"\n",
    "IMAGES_PATH = os.path.join(PROJECT_ROOT_DIR, \"images\", CHAPTER_ID)\n",
    "os.makedirs(IMAGES_PATH, exist_ok=True)\n",
    "\n",
    "def save_fig(fig_id, tight_layout=True, fig_extension=\"png\", resolution=300):\n",
    "    path = os.path.join(IMAGES_PATH, fig_id + \".\" + fig_extension)\n",
    "    print(\"Saving figure\", fig_id)\n",
    "    if tight_layout:\n",
    "        plt.tight_layout()\n",
    "    plt.savefig(path, format=fig_extension, dpi=resolution)"
   ]
  },
  {
   "cell_type": "markdown",
   "metadata": {
    "id": "rmBlqrVrq7LP"
   },
   "source": [
    "# Exercises ✏️"
   ]
  },
  {
   "cell_type": "markdown",
   "metadata": {
    "id": "0U7fwiQxq7LP"
   },
   "source": [
    "**Load the MNIST dataset and split it into a training set and a test set (take the first 60,000 instances for training, and the remaining 10,000 for testing).**"
   ]
  },
  {
   "cell_type": "code",
   "execution_count": 4,
   "metadata": {
    "id": "6FEczQpTsVVn"
   },
   "outputs": [],
   "source": [
    "from sklearn.datasets import fetch_openml\n",
    "\n",
    "mnist = fetch_openml('mnist_784', version=1, as_frame=False)\n",
    "mnist.target = mnist.target.astype(np.uint8)"
   ]
  },
  {
   "cell_type": "code",
   "execution_count": 10,
   "metadata": {},
   "outputs": [],
   "source": [
    "from sklearn.model_selection import train_test_split"
   ]
  },
  {
   "cell_type": "code",
   "execution_count": 11,
   "metadata": {
    "id": "Kp7lxaRdq7LP"
   },
   "outputs": [],
   "source": [
    "# Enter the code here\n",
    "x_train, x_test, y_train, y_test = train_test_split(mnist.data, mnist.target, train_size=60000, shuffle=False)"
   ]
  },
  {
   "cell_type": "markdown",
   "metadata": {
    "id": "gpguiIfUq7LP"
   },
   "source": [
    "**Train a Random Forest classifier on the dataset and time how long it takes, then evaluate the resulting model on the test set.**"
   ]
  },
  {
   "cell_type": "code",
   "execution_count": 17,
   "metadata": {
    "id": "poEjwYObq7LP"
   },
   "outputs": [],
   "source": [
    "from sklearn.ensemble import RandomForestClassifier\n",
    "\n",
    "# Enter code here\n",
    "clf = RandomForestClassifier(n_estimators=100, random_state=42)"
   ]
  },
  {
   "cell_type": "code",
   "execution_count": 18,
   "metadata": {
    "id": "DOjof_R5q7LP"
   },
   "outputs": [],
   "source": [
    "import time\n",
    "\n",
    "# Enter code here\n",
    "t0 = time.time()\n",
    "clf.fit(x_train, y_train)\n",
    "t1 = time.time()"
   ]
  },
  {
   "cell_type": "code",
   "execution_count": 19,
   "metadata": {
    "colab": {
     "base_uri": "https://localhost:8080/"
    },
    "id": "nYxiEdlGq7LQ",
    "outputId": "dc716418-a14e-4aaa-fc9a-34379a91aaa0"
   },
   "outputs": [
    {
     "name": "stdout",
     "output_type": "stream",
     "text": [
      "Training took 48.96s\n"
     ]
    }
   ],
   "source": [
    "print(\"Training took {:.2f}s\".format(t1 - t0))"
   ]
  },
  {
   "cell_type": "code",
   "execution_count": 20,
   "metadata": {
    "colab": {
     "base_uri": "https://localhost:8080/"
    },
    "id": "l2EXc8yNq7LQ",
    "outputId": "8beae7dd-ce3a-45a8-ba85-d62029c4f1ee"
   },
   "outputs": [
    {
     "data": {
      "text/plain": [
       "0.9705"
      ]
     },
     "execution_count": 20,
     "metadata": {},
     "output_type": "execute_result"
    }
   ],
   "source": [
    "from sklearn.metrics import accuracy_score\n",
    "\n",
    "# Enter code here\n",
    "accuracy_score(y_test, clf.predict(x_test))"
   ]
  },
  {
   "cell_type": "markdown",
   "metadata": {
    "id": "RcaO7Avkq7LQ"
   },
   "source": [
    "**Next, use PCA to reduce the dataset's dimensionality, with an explained variance ratio of 95%.**"
   ]
  },
  {
   "cell_type": "code",
   "execution_count": 34,
   "metadata": {
    "id": "syrzMJvJq7LQ"
   },
   "outputs": [],
   "source": [
    "from sklearn.decomposition import PCA\n",
    "\n",
    "# Enter code here\n",
    "pca = PCA(n_components=0.95)\n",
    "x_train_red = pca.fit_transform(x_train)"
   ]
  },
  {
   "cell_type": "markdown",
   "metadata": {
    "id": "YRIHwiv2q7LQ"
   },
   "source": [
    "**Train a new Random Forest classifier on the reduced dataset and see how long it takes. Was training much faster?**"
   ]
  },
  {
   "cell_type": "code",
   "execution_count": 24,
   "metadata": {
    "id": "RGQGOIrAq7LQ"
   },
   "outputs": [],
   "source": [
    "# Enter code here\n",
    "t0 = time.time()\n",
    "clf.fit(x_train_red, y_train)\n",
    "t1 = time.time()"
   ]
  },
  {
   "cell_type": "code",
   "execution_count": 25,
   "metadata": {
    "colab": {
     "base_uri": "https://localhost:8080/"
    },
    "id": "sRpLJmAPq7LQ",
    "outputId": "00e7a2ab-6850-40e9-8d79-02db2bc606ce"
   },
   "outputs": [
    {
     "name": "stdout",
     "output_type": "stream",
     "text": [
      "Training took 101.88s\n"
     ]
    }
   ],
   "source": [
    "print(\"Training took {:.2f}s\".format(t1 - t0))"
   ]
  },
  {
   "cell_type": "markdown",
   "metadata": {
    "id": "E2CU3QWnq7LQ"
   },
   "source": [
    "🛑 Oh no! Training is actually more than twice slower now! How can that occur? 🛑\n",
    "\n",
    "Dimensionality reduction does not always lead to faster training time: it depends on the dataset, the model and the training algorithm.\n",
    "\n",
    "If we try a softmax classifier instead of a random forest classifier, we may find that the training time is reduce when using PCA, but let's first check the precision of the random forest classifier."
   ]
  },
  {
   "cell_type": "markdown",
   "metadata": {
    "id": "E-Mxt8Nzq7LQ"
   },
   "source": [
    "**Next, evaluate the classifier on the test set: how does it compare to the previous classifier?**"
   ]
  },
  {
   "cell_type": "code",
   "execution_count": 26,
   "metadata": {
    "colab": {
     "base_uri": "https://localhost:8080/"
    },
    "id": "nsCc6nU5q7LQ",
    "outputId": "b9daee12-9938-485b-a6a0-e853be9ae876"
   },
   "outputs": [
    {
     "data": {
      "text/plain": [
       "0.9481"
      ]
     },
     "execution_count": 26,
     "metadata": {},
     "output_type": "execute_result"
    }
   ],
   "source": [
    "# Enter code here\n",
    "y_pred = clf.predict(pca.transform(x_test))\n",
    "accuracy_score(y_test, y_pred)"
   ]
  },
  {
   "cell_type": "markdown",
   "metadata": {
    "id": "RUx-zxpFq7LR"
   },
   "source": [
    "It is common for performance to drop slightly when reducing dimensionality, because we do lose some useful signal in the process. However, the performance drop is rather severe in this case. So PCA really did not help: it slowed down training and reduced performance ☹️\n",
    "\n",
    "Let's see if it helps when using softmax regression:"
   ]
  },
  {
   "cell_type": "code",
   "execution_count": 27,
   "metadata": {
    "id": "B9tXNkyWq7LR"
   },
   "outputs": [],
   "source": [
    "from sklearn.linear_model import LogisticRegression\n",
    "\n",
    "# Enter code here\n",
    "log_cls = LogisticRegression(multi_class='multinomial', solver='lbfgs', random_state=42)\n",
    "t0 = time.time()\n",
    "log_cls.fit(x_train, y_train)\n",
    "t1 = time.time()"
   ]
  },
  {
   "cell_type": "code",
   "execution_count": 28,
   "metadata": {
    "colab": {
     "base_uri": "https://localhost:8080/"
    },
    "id": "9mwW-qjHq7LR",
    "outputId": "3805ca08-ce33-461d-f9cb-f3bb616c3ff1"
   },
   "outputs": [
    {
     "name": "stdout",
     "output_type": "stream",
     "text": [
      "Training took 17.00s\n"
     ]
    }
   ],
   "source": [
    "print(\"Training took {:.2f}s\".format(t1 - t0))"
   ]
  },
  {
   "cell_type": "code",
   "execution_count": 29,
   "metadata": {
    "colab": {
     "base_uri": "https://localhost:8080/"
    },
    "id": "kKgO4WLIq7LR",
    "outputId": "ee7616ac-a21c-4666-f3c0-ceac1cd903f3"
   },
   "outputs": [
    {
     "data": {
      "text/plain": [
       "0.9255"
      ]
     },
     "execution_count": 29,
     "metadata": {},
     "output_type": "execute_result"
    }
   ],
   "source": [
    "# Enter code here\n",
    "accuracy_score(y_test, log_cls.predict(x_test))"
   ]
  },
  {
   "cell_type": "markdown",
   "metadata": {
    "id": "05Jqy8qAq7LR"
   },
   "source": [
    "It performs worse on the test set. But that's not what we are interested in right now; we want to see how much PCA can help softmax regression. Let's train the softmax regression model using the reduced dataset:"
   ]
  },
  {
   "cell_type": "code",
   "execution_count": 30,
   "metadata": {
    "id": "GW6IEU0Oq7LR"
   },
   "outputs": [],
   "source": [
    "# Enter code here\n",
    "log_cls_2 = LogisticRegression(multi_class='multinomial', solver='lbfgs', random_state=42)\n",
    "t0 = time.time()\n",
    "log_cls_2.fit(x_train_red, y_train)\n",
    "t1 = time.time()"
   ]
  },
  {
   "cell_type": "code",
   "execution_count": 31,
   "metadata": {
    "colab": {
     "base_uri": "https://localhost:8080/"
    },
    "id": "T1CVlCuFq7LR",
    "outputId": "8d032d1c-1bc6-4a2a-acc8-a8cb0eae3a65"
   },
   "outputs": [
    {
     "name": "stdout",
     "output_type": "stream",
     "text": [
      "Training took 4.80s\n"
     ]
    }
   ],
   "source": [
    "print(\"Training took {:.2f}s\".format(t1 - t0))"
   ]
  },
  {
   "cell_type": "markdown",
   "metadata": {
    "id": "CMc_-IKPq7LR"
   },
   "source": [
    "Let's check the model's accuracy:"
   ]
  },
  {
   "cell_type": "code",
   "execution_count": 35,
   "metadata": {
    "colab": {
     "base_uri": "https://localhost:8080/"
    },
    "id": "cFGLA4jVq7LS",
    "outputId": "bf0a67f9-4e43-4e6a-dbae-11e30ce12b3d"
   },
   "outputs": [
    {
     "data": {
      "text/plain": [
       "0.9201"
      ]
     },
     "execution_count": 35,
     "metadata": {},
     "output_type": "execute_result"
    }
   ],
   "source": [
    "# Enter code here\n",
    "accuracy_score(y_test, log_cls_2.predict(pca.transform(x_test)))"
   ]
  },
  {
   "cell_type": "code",
   "execution_count": null,
   "metadata": {},
   "outputs": [],
   "source": []
  }
 ],
 "metadata": {
  "colab": {
   "collapsed_sections": [
    "PKgFPLwWq7K4"
   ],
   "name": "module-3-pre-class-practice-dimensionality-reduction.ipynb",
   "provenance": []
  },
  "kernelspec": {
   "display_name": "env_deep_py3",
   "language": "python",
   "name": "env_deep_py3"
  },
  "language_info": {
   "codemirror_mode": {
    "name": "ipython",
    "version": 3
   },
   "file_extension": ".py",
   "mimetype": "text/x-python",
   "name": "python",
   "nbconvert_exporter": "python",
   "pygments_lexer": "ipython3",
   "version": "3.9.7"
  }
 },
 "nbformat": 4,
 "nbformat_minor": 1
}
