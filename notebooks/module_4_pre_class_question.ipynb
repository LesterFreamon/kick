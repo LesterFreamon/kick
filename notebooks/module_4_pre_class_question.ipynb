{
 "cells": [
  {
   "cell_type": "code",
   "execution_count": null,
   "metadata": {
    "colab": {
     "base_uri": "https://localhost:8080/"
    },
    "id": "qymm5Msm_i8j",
    "outputId": "10eb7eec-e591-4542-aef6-855ad8b0bfa2"
   },
   "outputs": [
    {
     "name": "stdout",
     "output_type": "stream",
     "text": [
      "Collecting pytorch_lightning\n",
      "  Downloading pytorch_lightning-1.4.9-py3-none-any.whl (925 kB)\n",
      "\u001b[?25l\r",
      "\u001b[K     |▍                               | 10 kB 22.3 MB/s eta 0:00:01\r",
      "\u001b[K     |▊                               | 20 kB 28.4 MB/s eta 0:00:01\r",
      "\u001b[K     |█                               | 30 kB 24.0 MB/s eta 0:00:01\r",
      "\u001b[K     |█▍                              | 40 kB 18.6 MB/s eta 0:00:01\r",
      "\u001b[K     |█▊                              | 51 kB 10.7 MB/s eta 0:00:01\r",
      "\u001b[K     |██▏                             | 61 kB 9.0 MB/s eta 0:00:01\r",
      "\u001b[K     |██▌                             | 71 kB 10.0 MB/s eta 0:00:01\r",
      "\u001b[K     |██▉                             | 81 kB 11.1 MB/s eta 0:00:01\r",
      "\u001b[K     |███▏                            | 92 kB 8.8 MB/s eta 0:00:01\r",
      "\u001b[K     |███▌                            | 102 kB 9.5 MB/s eta 0:00:01\r",
      "\u001b[K     |████                            | 112 kB 9.5 MB/s eta 0:00:01\r",
      "\u001b[K     |████▎                           | 122 kB 9.5 MB/s eta 0:00:01\r",
      "\u001b[K     |████▋                           | 133 kB 9.5 MB/s eta 0:00:01\r",
      "\u001b[K     |█████                           | 143 kB 9.5 MB/s eta 0:00:01\r",
      "\u001b[K     |█████▎                          | 153 kB 9.5 MB/s eta 0:00:01\r",
      "\u001b[K     |█████▋                          | 163 kB 9.5 MB/s eta 0:00:01\r",
      "\u001b[K     |██████                          | 174 kB 9.5 MB/s eta 0:00:01\r",
      "\u001b[K     |██████▍                         | 184 kB 9.5 MB/s eta 0:00:01\r",
      "\u001b[K     |██████▊                         | 194 kB 9.5 MB/s eta 0:00:01\r",
      "\u001b[K     |███████                         | 204 kB 9.5 MB/s eta 0:00:01\r",
      "\u001b[K     |███████▍                        | 215 kB 9.5 MB/s eta 0:00:01\r",
      "\u001b[K     |███████▉                        | 225 kB 9.5 MB/s eta 0:00:01\r",
      "\u001b[K     |████████▏                       | 235 kB 9.5 MB/s eta 0:00:01\r",
      "\u001b[K     |████████▌                       | 245 kB 9.5 MB/s eta 0:00:01\r",
      "\u001b[K     |████████▉                       | 256 kB 9.5 MB/s eta 0:00:01\r",
      "\u001b[K     |█████████▏                      | 266 kB 9.5 MB/s eta 0:00:01\r",
      "\u001b[K     |█████████▋                      | 276 kB 9.5 MB/s eta 0:00:01\r",
      "\u001b[K     |██████████                      | 286 kB 9.5 MB/s eta 0:00:01\r",
      "\u001b[K     |██████████▎                     | 296 kB 9.5 MB/s eta 0:00:01\r",
      "\u001b[K     |██████████▋                     | 307 kB 9.5 MB/s eta 0:00:01\r",
      "\u001b[K     |███████████                     | 317 kB 9.5 MB/s eta 0:00:01\r",
      "\u001b[K     |███████████▎                    | 327 kB 9.5 MB/s eta 0:00:01\r",
      "\u001b[K     |███████████▊                    | 337 kB 9.5 MB/s eta 0:00:01\r",
      "\u001b[K     |████████████                    | 348 kB 9.5 MB/s eta 0:00:01\r",
      "\u001b[K     |████████████▍                   | 358 kB 9.5 MB/s eta 0:00:01\r",
      "\u001b[K     |████████████▊                   | 368 kB 9.5 MB/s eta 0:00:01\r",
      "\u001b[K     |█████████████                   | 378 kB 9.5 MB/s eta 0:00:01\r",
      "\u001b[K     |█████████████▌                  | 389 kB 9.5 MB/s eta 0:00:01\r",
      "\u001b[K     |█████████████▉                  | 399 kB 9.5 MB/s eta 0:00:01\r",
      "\u001b[K     |██████████████▏                 | 409 kB 9.5 MB/s eta 0:00:01\r",
      "\u001b[K     |██████████████▌                 | 419 kB 9.5 MB/s eta 0:00:01\r",
      "\u001b[K     |██████████████▉                 | 430 kB 9.5 MB/s eta 0:00:01\r",
      "\u001b[K     |███████████████▏                | 440 kB 9.5 MB/s eta 0:00:01\r",
      "\u001b[K     |███████████████▋                | 450 kB 9.5 MB/s eta 0:00:01\r",
      "\u001b[K     |████████████████                | 460 kB 9.5 MB/s eta 0:00:01\r",
      "\u001b[K     |████████████████▎               | 471 kB 9.5 MB/s eta 0:00:01\r",
      "\u001b[K     |████████████████▋               | 481 kB 9.5 MB/s eta 0:00:01\r",
      "\u001b[K     |█████████████████               | 491 kB 9.5 MB/s eta 0:00:01\r",
      "\u001b[K     |█████████████████▍              | 501 kB 9.5 MB/s eta 0:00:01\r",
      "\u001b[K     |█████████████████▊              | 512 kB 9.5 MB/s eta 0:00:01\r",
      "\u001b[K     |██████████████████              | 522 kB 9.5 MB/s eta 0:00:01\r",
      "\u001b[K     |██████████████████▍             | 532 kB 9.5 MB/s eta 0:00:01\r",
      "\u001b[K     |██████████████████▊             | 542 kB 9.5 MB/s eta 0:00:01\r",
      "\u001b[K     |███████████████████▏            | 552 kB 9.5 MB/s eta 0:00:01\r",
      "\u001b[K     |███████████████████▌            | 563 kB 9.5 MB/s eta 0:00:01\r",
      "\u001b[K     |███████████████████▉            | 573 kB 9.5 MB/s eta 0:00:01\r",
      "\u001b[K     |████████████████████▏           | 583 kB 9.5 MB/s eta 0:00:01\r",
      "\u001b[K     |████████████████████▌           | 593 kB 9.5 MB/s eta 0:00:01\r",
      "\u001b[K     |████████████████████▉           | 604 kB 9.5 MB/s eta 0:00:01\r",
      "\u001b[K     |█████████████████████▎          | 614 kB 9.5 MB/s eta 0:00:01\r",
      "\u001b[K     |█████████████████████▋          | 624 kB 9.5 MB/s eta 0:00:01\r",
      "\u001b[K     |██████████████████████          | 634 kB 9.5 MB/s eta 0:00:01\r",
      "\u001b[K     |██████████████████████▎         | 645 kB 9.5 MB/s eta 0:00:01\r",
      "\u001b[K     |██████████████████████▋         | 655 kB 9.5 MB/s eta 0:00:01\r",
      "\u001b[K     |███████████████████████         | 665 kB 9.5 MB/s eta 0:00:01\r",
      "\u001b[K     |███████████████████████▍        | 675 kB 9.5 MB/s eta 0:00:01\r",
      "\u001b[K     |███████████████████████▊        | 686 kB 9.5 MB/s eta 0:00:01\r",
      "\u001b[K     |████████████████████████        | 696 kB 9.5 MB/s eta 0:00:01\r",
      "\u001b[K     |████████████████████████▍       | 706 kB 9.5 MB/s eta 0:00:01\r",
      "\u001b[K     |████████████████████████▊       | 716 kB 9.5 MB/s eta 0:00:01\r",
      "\u001b[K     |█████████████████████████▏      | 727 kB 9.5 MB/s eta 0:00:01\r",
      "\u001b[K     |█████████████████████████▌      | 737 kB 9.5 MB/s eta 0:00:01\r",
      "\u001b[K     |█████████████████████████▉      | 747 kB 9.5 MB/s eta 0:00:01\r",
      "\u001b[K     |██████████████████████████▏     | 757 kB 9.5 MB/s eta 0:00:01\r",
      "\u001b[K     |██████████████████████████▌     | 768 kB 9.5 MB/s eta 0:00:01\r",
      "\u001b[K     |███████████████████████████     | 778 kB 9.5 MB/s eta 0:00:01\r",
      "\u001b[K     |███████████████████████████▎    | 788 kB 9.5 MB/s eta 0:00:01\r",
      "\u001b[K     |███████████████████████████▋    | 798 kB 9.5 MB/s eta 0:00:01\r",
      "\u001b[K     |████████████████████████████    | 808 kB 9.5 MB/s eta 0:00:01\r",
      "\u001b[K     |████████████████████████████▎   | 819 kB 9.5 MB/s eta 0:00:01\r",
      "\u001b[K     |████████████████████████████▊   | 829 kB 9.5 MB/s eta 0:00:01\r",
      "\u001b[K     |█████████████████████████████   | 839 kB 9.5 MB/s eta 0:00:01\r",
      "\u001b[K     |█████████████████████████████▍  | 849 kB 9.5 MB/s eta 0:00:01\r",
      "\u001b[K     |█████████████████████████████▊  | 860 kB 9.5 MB/s eta 0:00:01\r",
      "\u001b[K     |██████████████████████████████  | 870 kB 9.5 MB/s eta 0:00:01\r",
      "\u001b[K     |██████████████████████████████▍ | 880 kB 9.5 MB/s eta 0:00:01\r",
      "\u001b[K     |██████████████████████████████▉ | 890 kB 9.5 MB/s eta 0:00:01\r",
      "\u001b[K     |███████████████████████████████▏| 901 kB 9.5 MB/s eta 0:00:01\r",
      "\u001b[K     |███████████████████████████████▌| 911 kB 9.5 MB/s eta 0:00:01\r",
      "\u001b[K     |███████████████████████████████▉| 921 kB 9.5 MB/s eta 0:00:01\r",
      "\u001b[K     |████████████████████████████████| 925 kB 9.5 MB/s \n",
      "\u001b[?25hCollecting ray[default]==1.5.1\n",
      "  Downloading ray-1.5.1-cp37-cp37m-manylinux2014_x86_64.whl (51.5 MB)\n",
      "\u001b[K     |████████████████████████████████| 51.5 MB 25 kB/s \n",
      "\u001b[?25hCollecting tensorboard==2.4.1\n",
      "  Downloading tensorboard-2.4.1-py3-none-any.whl (10.6 MB)\n",
      "\u001b[K     |████████████████████████████████| 10.6 MB 8.7 MB/s \n",
      "\u001b[?25hCollecting tensorboardX==2.4\n",
      "  Downloading tensorboardX-2.4-py2.py3-none-any.whl (124 kB)\n",
      "\u001b[K     |████████████████████████████████| 124 kB 51.0 MB/s \n",
      "\u001b[?25hRequirement already satisfied: grpcio>=1.24.3 in /usr/local/lib/python3.7/dist-packages (from tensorboard==2.4.1) (1.41.0)\n",
      "Requirement already satisfied: absl-py>=0.4 in /usr/local/lib/python3.7/dist-packages (from tensorboard==2.4.1) (0.12.0)\n",
      "Requirement already satisfied: requests<3,>=2.21.0 in /usr/local/lib/python3.7/dist-packages (from tensorboard==2.4.1) (2.23.0)\n",
      "Requirement already satisfied: protobuf>=3.6.0 in /usr/local/lib/python3.7/dist-packages (from tensorboard==2.4.1) (3.17.3)\n",
      "Requirement already satisfied: tensorboard-plugin-wit>=1.6.0 in /usr/local/lib/python3.7/dist-packages (from tensorboard==2.4.1) (1.8.0)\n",
      "Requirement already satisfied: werkzeug>=0.11.15 in /usr/local/lib/python3.7/dist-packages (from tensorboard==2.4.1) (1.0.1)\n",
      "Requirement already satisfied: six>=1.10.0 in /usr/local/lib/python3.7/dist-packages (from tensorboard==2.4.1) (1.15.0)\n",
      "Requirement already satisfied: setuptools>=41.0.0 in /usr/local/lib/python3.7/dist-packages (from tensorboard==2.4.1) (57.4.0)\n",
      "Requirement already satisfied: markdown>=2.6.8 in /usr/local/lib/python3.7/dist-packages (from tensorboard==2.4.1) (3.3.4)\n",
      "Requirement already satisfied: google-auth-oauthlib<0.5,>=0.4.1 in /usr/local/lib/python3.7/dist-packages (from tensorboard==2.4.1) (0.4.6)\n",
      "Requirement already satisfied: numpy>=1.12.0 in /usr/local/lib/python3.7/dist-packages (from tensorboard==2.4.1) (1.19.5)\n",
      "Requirement already satisfied: wheel>=0.26 in /usr/local/lib/python3.7/dist-packages (from tensorboard==2.4.1) (0.37.0)\n",
      "Requirement already satisfied: google-auth<2,>=1.6.3 in /usr/local/lib/python3.7/dist-packages (from tensorboard==2.4.1) (1.35.0)\n",
      "Collecting gpustat\n",
      "  Downloading gpustat-0.6.0.tar.gz (78 kB)\n",
      "\u001b[K     |████████████████████████████████| 78 kB 7.2 MB/s \n",
      "\u001b[?25hRequirement already satisfied: msgpack<2.0.0,>=1.0.0 in /usr/local/lib/python3.7/dist-packages (from ray[default]==1.5.1) (1.0.2)\n",
      "Requirement already satisfied: click>=7.0 in /usr/local/lib/python3.7/dist-packages (from ray[default]==1.5.1) (7.1.2)\n",
      "Requirement already satisfied: pyyaml in /usr/local/lib/python3.7/dist-packages (from ray[default]==1.5.1) (3.13)\n",
      "Collecting py-spy>=0.2.0\n",
      "  Downloading py_spy-0.3.10-py2.py3-none-manylinux_2_5_x86_64.manylinux1_x86_64.whl (3.2 MB)\n",
      "\u001b[K     |████████████████████████████████| 3.2 MB 52.3 MB/s \n",
      "\u001b[?25hCollecting redis>=3.5.0\n",
      "  Downloading redis-3.5.3-py2.py3-none-any.whl (72 kB)\n",
      "\u001b[K     |████████████████████████████████| 72 kB 591 kB/s \n",
      "\u001b[?25hRequirement already satisfied: filelock in /usr/local/lib/python3.7/dist-packages (from ray[default]==1.5.1) (3.3.0)\n",
      "Collecting aiohttp-cors\n",
      "  Downloading aiohttp_cors-0.7.0-py3-none-any.whl (27 kB)\n",
      "Collecting aiohttp\n",
      "  Downloading aiohttp-3.7.4.post0-cp37-cp37m-manylinux2014_x86_64.whl (1.3 MB)\n",
      "\u001b[K     |████████████████████████████████| 1.3 MB 44.0 MB/s \n",
      "\u001b[?25hCollecting aioredis<2\n",
      "  Downloading aioredis-1.3.1-py3-none-any.whl (65 kB)\n",
      "\u001b[K     |████████████████████████████████| 65 kB 4.0 MB/s \n",
      "\u001b[?25hCollecting colorama\n",
      "  Downloading colorama-0.4.4-py2.py3-none-any.whl (16 kB)\n",
      "Requirement already satisfied: jsonschema in /usr/local/lib/python3.7/dist-packages (from ray[default]==1.5.1) (2.6.0)\n",
      "Collecting opencensus\n",
      "  Downloading opencensus-0.8.0-py2.py3-none-any.whl (128 kB)\n",
      "\u001b[K     |████████████████████████████████| 128 kB 39.2 MB/s \n",
      "\u001b[?25hRequirement already satisfied: prometheus-client>=0.7.1 in /usr/local/lib/python3.7/dist-packages (from ray[default]==1.5.1) (0.11.0)\n",
      "Collecting pydantic>=1.8\n",
      "  Downloading pydantic-1.8.2-cp37-cp37m-manylinux2014_x86_64.whl (10.1 MB)\n",
      "\u001b[K     |████████████████████████████████| 10.1 MB 26.4 MB/s \n",
      "\u001b[?25hCollecting colorful\n",
      "  Downloading colorful-0.5.4-py2.py3-none-any.whl (201 kB)\n",
      "\u001b[K     |████████████████████████████████| 201 kB 75.8 MB/s \n",
      "\u001b[?25hCollecting hiredis\n",
      "  Downloading hiredis-2.0.0-cp37-cp37m-manylinux2010_x86_64.whl (85 kB)\n",
      "\u001b[K     |████████████████████████████████| 85 kB 4.9 MB/s \n",
      "\u001b[?25hCollecting async-timeout\n",
      "  Downloading async_timeout-3.0.1-py3-none-any.whl (8.2 kB)\n",
      "Requirement already satisfied: rsa<5,>=3.1.4 in /usr/local/lib/python3.7/dist-packages (from google-auth<2,>=1.6.3->tensorboard==2.4.1) (4.7.2)\n",
      "Requirement already satisfied: cachetools<5.0,>=2.0.0 in /usr/local/lib/python3.7/dist-packages (from google-auth<2,>=1.6.3->tensorboard==2.4.1) (4.2.4)\n",
      "Requirement already satisfied: pyasn1-modules>=0.2.1 in /usr/local/lib/python3.7/dist-packages (from google-auth<2,>=1.6.3->tensorboard==2.4.1) (0.2.8)\n",
      "Requirement already satisfied: requests-oauthlib>=0.7.0 in /usr/local/lib/python3.7/dist-packages (from google-auth-oauthlib<0.5,>=0.4.1->tensorboard==2.4.1) (1.3.0)\n",
      "Requirement already satisfied: importlib-metadata in /usr/local/lib/python3.7/dist-packages (from markdown>=2.6.8->tensorboard==2.4.1) (4.8.1)\n",
      "Requirement already satisfied: pyasn1<0.5.0,>=0.4.6 in /usr/local/lib/python3.7/dist-packages (from pyasn1-modules>=0.2.1->google-auth<2,>=1.6.3->tensorboard==2.4.1) (0.4.8)\n",
      "Requirement already satisfied: typing-extensions>=3.7.4.3 in /usr/local/lib/python3.7/dist-packages (from pydantic>=1.8->ray[default]==1.5.1) (3.7.4.3)\n",
      "Requirement already satisfied: chardet<4,>=3.0.2 in /usr/local/lib/python3.7/dist-packages (from requests<3,>=2.21.0->tensorboard==2.4.1) (3.0.4)\n",
      "Requirement already satisfied: urllib3!=1.25.0,!=1.25.1,<1.26,>=1.21.1 in /usr/local/lib/python3.7/dist-packages (from requests<3,>=2.21.0->tensorboard==2.4.1) (1.24.3)\n",
      "Requirement already satisfied: certifi>=2017.4.17 in /usr/local/lib/python3.7/dist-packages (from requests<3,>=2.21.0->tensorboard==2.4.1) (2021.5.30)\n",
      "Requirement already satisfied: idna<3,>=2.5 in /usr/local/lib/python3.7/dist-packages (from requests<3,>=2.21.0->tensorboard==2.4.1) (2.10)\n",
      "Requirement already satisfied: oauthlib>=3.0.0 in /usr/local/lib/python3.7/dist-packages (from requests-oauthlib>=0.7.0->google-auth-oauthlib<0.5,>=0.4.1->tensorboard==2.4.1) (3.1.1)\n",
      "Collecting torchmetrics>=0.4.0\n",
      "  Downloading torchmetrics-0.5.1-py3-none-any.whl (282 kB)\n",
      "\u001b[K     |████████████████████████████████| 282 kB 48.2 MB/s \n",
      "\u001b[?25hCollecting pyDeprecate==0.3.1\n",
      "  Downloading pyDeprecate-0.3.1-py3-none-any.whl (10 kB)\n",
      "Collecting pyyaml\n",
      "  Downloading PyYAML-6.0-cp37-cp37m-manylinux_2_5_x86_64.manylinux1_x86_64.manylinux_2_12_x86_64.manylinux2010_x86_64.whl (596 kB)\n",
      "\u001b[K     |████████████████████████████████| 596 kB 52.5 MB/s \n",
      "\u001b[?25hRequirement already satisfied: tqdm>=4.41.0 in /usr/local/lib/python3.7/dist-packages (from pytorch_lightning) (4.62.3)\n",
      "Collecting fsspec[http]!=2021.06.0,>=2021.05.0\n",
      "  Downloading fsspec-2021.10.1-py3-none-any.whl (125 kB)\n",
      "\u001b[K     |████████████████████████████████| 125 kB 72.8 MB/s \n",
      "\u001b[?25hRequirement already satisfied: torch>=1.6 in /usr/local/lib/python3.7/dist-packages (from pytorch_lightning) (1.9.0+cu111)\n",
      "Collecting future>=0.17.1\n",
      "  Downloading future-0.18.2.tar.gz (829 kB)\n",
      "\u001b[K     |████████████████████████████████| 829 kB 72.4 MB/s \n",
      "\u001b[?25hRequirement already satisfied: packaging>=17.0 in /usr/local/lib/python3.7/dist-packages (from pytorch_lightning) (21.0)\n",
      "Requirement already satisfied: pyparsing>=2.0.2 in /usr/local/lib/python3.7/dist-packages (from packaging>=17.0->pytorch_lightning) (2.4.7)\n",
      "Requirement already satisfied: attrs>=17.3.0 in /usr/local/lib/python3.7/dist-packages (from aiohttp->ray[default]==1.5.1) (21.2.0)\n",
      "Collecting multidict<7.0,>=4.5\n",
      "  Downloading multidict-5.2.0-cp37-cp37m-manylinux_2_5_x86_64.manylinux1_x86_64.manylinux_2_12_x86_64.manylinux2010_x86_64.whl (160 kB)\n",
      "\u001b[K     |████████████████████████████████| 160 kB 58.7 MB/s \n",
      "\u001b[?25hCollecting yarl<2.0,>=1.0\n",
      "  Downloading yarl-1.7.0-cp37-cp37m-manylinux_2_5_x86_64.manylinux1_x86_64.manylinux_2_12_x86_64.manylinux2010_x86_64.whl (271 kB)\n",
      "\u001b[K     |████████████████████████████████| 271 kB 60.2 MB/s \n",
      "\u001b[?25hRequirement already satisfied: nvidia-ml-py3>=7.352.0 in /usr/local/lib/python3.7/dist-packages (from gpustat->ray[default]==1.5.1) (7.352.0)\n",
      "Requirement already satisfied: psutil in /usr/local/lib/python3.7/dist-packages (from gpustat->ray[default]==1.5.1) (5.4.8)\n",
      "Collecting blessings>=1.6\n",
      "  Downloading blessings-1.7-py3-none-any.whl (18 kB)\n",
      "Requirement already satisfied: zipp>=0.5 in /usr/local/lib/python3.7/dist-packages (from importlib-metadata->markdown>=2.6.8->tensorboard==2.4.1) (3.6.0)\n",
      "Requirement already satisfied: google-api-core<3.0.0,>=1.0.0 in /usr/local/lib/python3.7/dist-packages (from opencensus->ray[default]==1.5.1) (1.26.3)\n",
      "Collecting opencensus-context==0.1.2\n",
      "  Downloading opencensus_context-0.1.2-py2.py3-none-any.whl (4.4 kB)\n",
      "Requirement already satisfied: pytz in /usr/local/lib/python3.7/dist-packages (from google-api-core<3.0.0,>=1.0.0->opencensus->ray[default]==1.5.1) (2018.9)\n",
      "Requirement already satisfied: googleapis-common-protos<2.0dev,>=1.6.0 in /usr/local/lib/python3.7/dist-packages (from google-api-core<3.0.0,>=1.0.0->opencensus->ray[default]==1.5.1) (1.53.0)\n",
      "Building wheels for collected packages: future, gpustat\n",
      "  Building wheel for future (setup.py) ... \u001b[?25l\u001b[?25hdone\n",
      "  Created wheel for future: filename=future-0.18.2-py3-none-any.whl size=491070 sha256=40a87bd3784ea507c683727715e2da833bf8efa341f1dedf7e15bb704cd73527\n",
      "  Stored in directory: /root/.cache/pip/wheels/56/b0/fe/4410d17b32f1f0c3cf54cdfb2bc04d7b4b8f4ae377e2229ba0\n",
      "  Building wheel for gpustat (setup.py) ... \u001b[?25l\u001b[?25hdone\n",
      "  Created wheel for gpustat: filename=gpustat-0.6.0-py3-none-any.whl size=12617 sha256=96121a4a1ded6b8484768c95c2ef76da4ba83380bc40d2698899c5412cac270f\n",
      "  Stored in directory: /root/.cache/pip/wheels/e6/67/af/f1ad15974b8fd95f59a63dbf854483ebe5c7a46a93930798b8\n",
      "Successfully built future gpustat\n",
      "Installing collected packages: multidict, yarl, async-timeout, opencensus-context, hiredis, blessings, aiohttp, redis, pyyaml, pydantic, py-spy, opencensus, gpustat, fsspec, colorama, aioredis, aiohttp-cors, torchmetrics, tensorboard, ray, pyDeprecate, future, colorful, tensorboardX, pytorch-lightning\n",
      "  Attempting uninstall: pyyaml\n",
      "    Found existing installation: PyYAML 3.13\n",
      "    Uninstalling PyYAML-3.13:\n",
      "      Successfully uninstalled PyYAML-3.13\n",
      "  Attempting uninstall: tensorboard\n",
      "    Found existing installation: tensorboard 2.6.0\n",
      "    Uninstalling tensorboard-2.6.0:\n",
      "      Successfully uninstalled tensorboard-2.6.0\n",
      "  Attempting uninstall: future\n",
      "    Found existing installation: future 0.16.0\n",
      "    Uninstalling future-0.16.0:\n",
      "      Successfully uninstalled future-0.16.0\n",
      "\u001b[31mERROR: pip's dependency resolver does not currently take into account all the packages that are installed. This behaviour is the source of the following dependency conflicts.\n",
      "tensorflow 2.6.0 requires tensorboard~=2.6, but you have tensorboard 2.4.1 which is incompatible.\u001b[0m\n",
      "Successfully installed aiohttp-3.7.4.post0 aiohttp-cors-0.7.0 aioredis-1.3.1 async-timeout-3.0.1 blessings-1.7 colorama-0.4.4 colorful-0.5.4 fsspec-2021.10.1 future-0.18.2 gpustat-0.6.0 hiredis-2.0.0 multidict-5.2.0 opencensus-0.8.0 opencensus-context-0.1.2 py-spy-0.3.10 pyDeprecate-0.3.1 pydantic-1.8.2 pytorch-lightning-1.4.9 pyyaml-6.0 ray-1.5.1 redis-3.5.3 tensorboard-2.4.1 tensorboardX-2.4 torchmetrics-0.5.1 yarl-1.7.0\n"
     ]
    }
   ],
   "source": [
    "!pip install pytorch_lightning ray[default]==1.5.1 tensorboard==2.4.1 tensorboardX==2.4"
   ]
  },
  {
   "cell_type": "code",
   "execution_count": 3,
   "metadata": {
    "id": "3iaQbL_-lTrS"
   },
   "outputs": [],
   "source": [
    "import pandas as pd\n",
    "import numpy as np\n",
    "import six\n",
    "from typing import Union, List, Tuple"
   ]
  },
  {
   "cell_type": "code",
   "execution_count": 5,
   "metadata": {
    "colab": {
     "base_uri": "https://localhost:8080/"
    },
    "id": "kOXIkRR09qFr",
    "outputId": "9d308cf3-3bdd-4ad8-f82c-1f23c74ce07f"
   },
   "outputs": [
    {
     "name": "stdout",
     "output_type": "stream",
     "text": [
      "--2021-11-05 14:36:52--  https://github.com/amm-ik/ml-datasets/raw/main/module-4/bank-additional-full.csv\n",
      "Resolving github.com (github.com)... 192.30.255.112\n",
      "Connecting to github.com (github.com)|192.30.255.112|:443... connected.\n",
      "HTTP request sent, awaiting response... 302 Found\n",
      "Location: https://raw.githubusercontent.com/amm-ik/ml-datasets/main/module-4/bank-additional-full.csv [following]\n",
      "--2021-11-05 14:36:52--  https://raw.githubusercontent.com/amm-ik/ml-datasets/main/module-4/bank-additional-full.csv\n",
      "Resolving raw.githubusercontent.com (raw.githubusercontent.com)... 185.199.109.133, 185.199.111.133, 185.199.108.133, ...\n",
      "Connecting to raw.githubusercontent.com (raw.githubusercontent.com)|185.199.109.133|:443... connected.\n",
      "HTTP request sent, awaiting response... 200 OK\n",
      "Length: 5834924 (5.6M) [text/plain]\n",
      "Saving to: ‘bank-additional-full.csv’\n",
      "\n",
      "bank-additional-ful 100%[===================>]   5.56M   766KB/s    in 6.5s    \n",
      "\n",
      "2021-11-05 14:37:00 (877 KB/s) - ‘bank-additional-full.csv’ saved [5834924/5834924]\n",
      "\n",
      "--2021-11-05 14:37:00--  https://github.com/amm-ik/ml-datasets/raw/main/module-4/bank-additional-names.txt\n",
      "Resolving github.com (github.com)... 192.30.255.112\n",
      "Connecting to github.com (github.com)|192.30.255.112|:443... connected.\n",
      "HTTP request sent, awaiting response... 302 Found\n",
      "Location: https://raw.githubusercontent.com/amm-ik/ml-datasets/main/module-4/bank-additional-names.txt [following]\n",
      "--2021-11-05 14:37:00--  https://raw.githubusercontent.com/amm-ik/ml-datasets/main/module-4/bank-additional-names.txt\n",
      "Resolving raw.githubusercontent.com (raw.githubusercontent.com)... 185.199.109.133, 185.199.111.133, 185.199.108.133, ...\n",
      "Connecting to raw.githubusercontent.com (raw.githubusercontent.com)|185.199.109.133|:443... connected.\n",
      "HTTP request sent, awaiting response... 200 OK\n",
      "Length: 5458 (5.3K) [text/plain]\n",
      "Saving to: ‘bank-additional-names.txt’\n",
      "\n",
      "bank-additional-nam 100%[===================>]   5.33K  --.-KB/s    in 0.005s  \n",
      "\n",
      "2021-11-05 14:37:01 (1.13 MB/s) - ‘bank-additional-names.txt’ saved [5458/5458]\n",
      "\n"
     ]
    }
   ],
   "source": [
    "!wget https://github.com/amm-ik/ml-datasets/raw/main/module-4/bank-additional-full.csv\n",
    "!wget https://github.com/amm-ik/ml-datasets/raw/main/module-4/bank-additional-names.txt"
   ]
  },
  {
   "cell_type": "code",
   "execution_count": 6,
   "metadata": {
    "id": "YYZ23N1xlTrU"
   },
   "outputs": [],
   "source": [
    "df = pd.read_csv(\"bank-additional-full.csv\", sep=\";\")"
   ]
  },
  {
   "cell_type": "code",
   "execution_count": null,
   "metadata": {
    "colab": {
     "base_uri": "https://localhost:8080/",
     "height": 447
    },
    "id": "0nc4Tq_wkZJE",
    "outputId": "e0066ea0-18df-4ffa-fe10-4a949711ce40"
   },
   "outputs": [
    {
     "data": {
      "text/html": [
       "<div>\n",
       "<style scoped>\n",
       "    .dataframe tbody tr th:only-of-type {\n",
       "        vertical-align: middle;\n",
       "    }\n",
       "\n",
       "    .dataframe tbody tr th {\n",
       "        vertical-align: top;\n",
       "    }\n",
       "\n",
       "    .dataframe thead th {\n",
       "        text-align: right;\n",
       "    }\n",
       "</style>\n",
       "<table border=\"1\" class=\"dataframe\">\n",
       "  <thead>\n",
       "    <tr style=\"text-align: right;\">\n",
       "      <th></th>\n",
       "      <th>age</th>\n",
       "      <th>job</th>\n",
       "      <th>marital</th>\n",
       "      <th>education</th>\n",
       "      <th>default</th>\n",
       "      <th>housing</th>\n",
       "      <th>loan</th>\n",
       "      <th>contact</th>\n",
       "      <th>month</th>\n",
       "      <th>day_of_week</th>\n",
       "      <th>duration</th>\n",
       "      <th>campaign</th>\n",
       "      <th>pdays</th>\n",
       "      <th>previous</th>\n",
       "      <th>poutcome</th>\n",
       "      <th>emp.var.rate</th>\n",
       "      <th>cons.price.idx</th>\n",
       "      <th>cons.conf.idx</th>\n",
       "      <th>euribor3m</th>\n",
       "      <th>nr.employed</th>\n",
       "      <th>y</th>\n",
       "    </tr>\n",
       "  </thead>\n",
       "  <tbody>\n",
       "    <tr>\n",
       "      <th>21525</th>\n",
       "      <td>33</td>\n",
       "      <td>technician</td>\n",
       "      <td>married</td>\n",
       "      <td>professional.course</td>\n",
       "      <td>no</td>\n",
       "      <td>yes</td>\n",
       "      <td>no</td>\n",
       "      <td>cellular</td>\n",
       "      <td>aug</td>\n",
       "      <td>tue</td>\n",
       "      <td>409</td>\n",
       "      <td>1</td>\n",
       "      <td>999</td>\n",
       "      <td>0</td>\n",
       "      <td>nonexistent</td>\n",
       "      <td>1.4</td>\n",
       "      <td>93.444</td>\n",
       "      <td>-36.1</td>\n",
       "      <td>4.963</td>\n",
       "      <td>5228.1</td>\n",
       "      <td>no</td>\n",
       "    </tr>\n",
       "    <tr>\n",
       "      <th>9660</th>\n",
       "      <td>34</td>\n",
       "      <td>admin.</td>\n",
       "      <td>single</td>\n",
       "      <td>high.school</td>\n",
       "      <td>no</td>\n",
       "      <td>yes</td>\n",
       "      <td>yes</td>\n",
       "      <td>telephone</td>\n",
       "      <td>jun</td>\n",
       "      <td>mon</td>\n",
       "      <td>123</td>\n",
       "      <td>1</td>\n",
       "      <td>999</td>\n",
       "      <td>0</td>\n",
       "      <td>nonexistent</td>\n",
       "      <td>1.4</td>\n",
       "      <td>94.465</td>\n",
       "      <td>-41.8</td>\n",
       "      <td>4.961</td>\n",
       "      <td>5228.1</td>\n",
       "      <td>no</td>\n",
       "    </tr>\n",
       "    <tr>\n",
       "      <th>12150</th>\n",
       "      <td>54</td>\n",
       "      <td>blue-collar</td>\n",
       "      <td>married</td>\n",
       "      <td>basic.6y</td>\n",
       "      <td>unknown</td>\n",
       "      <td>yes</td>\n",
       "      <td>no</td>\n",
       "      <td>telephone</td>\n",
       "      <td>jul</td>\n",
       "      <td>tue</td>\n",
       "      <td>34</td>\n",
       "      <td>1</td>\n",
       "      <td>999</td>\n",
       "      <td>0</td>\n",
       "      <td>nonexistent</td>\n",
       "      <td>1.4</td>\n",
       "      <td>93.918</td>\n",
       "      <td>-42.7</td>\n",
       "      <td>4.955</td>\n",
       "      <td>5228.1</td>\n",
       "      <td>no</td>\n",
       "    </tr>\n",
       "    <tr>\n",
       "      <th>25323</th>\n",
       "      <td>40</td>\n",
       "      <td>blue-collar</td>\n",
       "      <td>single</td>\n",
       "      <td>high.school</td>\n",
       "      <td>no</td>\n",
       "      <td>yes</td>\n",
       "      <td>no</td>\n",
       "      <td>cellular</td>\n",
       "      <td>nov</td>\n",
       "      <td>tue</td>\n",
       "      <td>139</td>\n",
       "      <td>2</td>\n",
       "      <td>999</td>\n",
       "      <td>0</td>\n",
       "      <td>nonexistent</td>\n",
       "      <td>-0.1</td>\n",
       "      <td>93.200</td>\n",
       "      <td>-42.0</td>\n",
       "      <td>4.153</td>\n",
       "      <td>5195.8</td>\n",
       "      <td>no</td>\n",
       "    </tr>\n",
       "    <tr>\n",
       "      <th>8560</th>\n",
       "      <td>46</td>\n",
       "      <td>technician</td>\n",
       "      <td>married</td>\n",
       "      <td>professional.course</td>\n",
       "      <td>unknown</td>\n",
       "      <td>yes</td>\n",
       "      <td>no</td>\n",
       "      <td>telephone</td>\n",
       "      <td>jun</td>\n",
       "      <td>wed</td>\n",
       "      <td>77</td>\n",
       "      <td>8</td>\n",
       "      <td>999</td>\n",
       "      <td>0</td>\n",
       "      <td>nonexistent</td>\n",
       "      <td>1.4</td>\n",
       "      <td>94.465</td>\n",
       "      <td>-41.8</td>\n",
       "      <td>4.864</td>\n",
       "      <td>5228.1</td>\n",
       "      <td>no</td>\n",
       "    </tr>\n",
       "    <tr>\n",
       "      <th>5785</th>\n",
       "      <td>50</td>\n",
       "      <td>blue-collar</td>\n",
       "      <td>married</td>\n",
       "      <td>basic.6y</td>\n",
       "      <td>unknown</td>\n",
       "      <td>no</td>\n",
       "      <td>no</td>\n",
       "      <td>telephone</td>\n",
       "      <td>may</td>\n",
       "      <td>mon</td>\n",
       "      <td>151</td>\n",
       "      <td>3</td>\n",
       "      <td>999</td>\n",
       "      <td>0</td>\n",
       "      <td>nonexistent</td>\n",
       "      <td>1.1</td>\n",
       "      <td>93.994</td>\n",
       "      <td>-36.4</td>\n",
       "      <td>4.857</td>\n",
       "      <td>5191.0</td>\n",
       "      <td>no</td>\n",
       "    </tr>\n",
       "    <tr>\n",
       "      <th>30089</th>\n",
       "      <td>38</td>\n",
       "      <td>admin.</td>\n",
       "      <td>married</td>\n",
       "      <td>university.degree</td>\n",
       "      <td>no</td>\n",
       "      <td>unknown</td>\n",
       "      <td>unknown</td>\n",
       "      <td>cellular</td>\n",
       "      <td>apr</td>\n",
       "      <td>mon</td>\n",
       "      <td>124</td>\n",
       "      <td>1</td>\n",
       "      <td>999</td>\n",
       "      <td>0</td>\n",
       "      <td>nonexistent</td>\n",
       "      <td>-1.8</td>\n",
       "      <td>93.075</td>\n",
       "      <td>-47.1</td>\n",
       "      <td>1.392</td>\n",
       "      <td>5099.1</td>\n",
       "      <td>yes</td>\n",
       "    </tr>\n",
       "    <tr>\n",
       "      <th>38580</th>\n",
       "      <td>78</td>\n",
       "      <td>retired</td>\n",
       "      <td>divorced</td>\n",
       "      <td>basic.6y</td>\n",
       "      <td>no</td>\n",
       "      <td>no</td>\n",
       "      <td>no</td>\n",
       "      <td>cellular</td>\n",
       "      <td>oct</td>\n",
       "      <td>fri</td>\n",
       "      <td>631</td>\n",
       "      <td>2</td>\n",
       "      <td>999</td>\n",
       "      <td>2</td>\n",
       "      <td>failure</td>\n",
       "      <td>-3.4</td>\n",
       "      <td>92.431</td>\n",
       "      <td>-26.9</td>\n",
       "      <td>0.720</td>\n",
       "      <td>5017.5</td>\n",
       "      <td>no</td>\n",
       "    </tr>\n",
       "    <tr>\n",
       "      <th>33287</th>\n",
       "      <td>43</td>\n",
       "      <td>admin.</td>\n",
       "      <td>married</td>\n",
       "      <td>high.school</td>\n",
       "      <td>no</td>\n",
       "      <td>yes</td>\n",
       "      <td>no</td>\n",
       "      <td>cellular</td>\n",
       "      <td>may</td>\n",
       "      <td>tue</td>\n",
       "      <td>152</td>\n",
       "      <td>3</td>\n",
       "      <td>999</td>\n",
       "      <td>1</td>\n",
       "      <td>failure</td>\n",
       "      <td>-1.8</td>\n",
       "      <td>92.893</td>\n",
       "      <td>-46.2</td>\n",
       "      <td>1.291</td>\n",
       "      <td>5099.1</td>\n",
       "      <td>no</td>\n",
       "    </tr>\n",
       "    <tr>\n",
       "      <th>11791</th>\n",
       "      <td>50</td>\n",
       "      <td>blue-collar</td>\n",
       "      <td>married</td>\n",
       "      <td>basic.4y</td>\n",
       "      <td>unknown</td>\n",
       "      <td>yes</td>\n",
       "      <td>yes</td>\n",
       "      <td>telephone</td>\n",
       "      <td>jun</td>\n",
       "      <td>fri</td>\n",
       "      <td>160</td>\n",
       "      <td>3</td>\n",
       "      <td>999</td>\n",
       "      <td>0</td>\n",
       "      <td>nonexistent</td>\n",
       "      <td>1.4</td>\n",
       "      <td>94.465</td>\n",
       "      <td>-41.8</td>\n",
       "      <td>4.959</td>\n",
       "      <td>5228.1</td>\n",
       "      <td>no</td>\n",
       "    </tr>\n",
       "  </tbody>\n",
       "</table>\n",
       "</div>"
      ],
      "text/plain": [
       "       age          job   marital  ... euribor3m nr.employed    y\n",
       "21525   33   technician   married  ...     4.963      5228.1   no\n",
       "9660    34       admin.    single  ...     4.961      5228.1   no\n",
       "12150   54  blue-collar   married  ...     4.955      5228.1   no\n",
       "25323   40  blue-collar    single  ...     4.153      5195.8   no\n",
       "8560    46   technician   married  ...     4.864      5228.1   no\n",
       "5785    50  blue-collar   married  ...     4.857      5191.0   no\n",
       "30089   38       admin.   married  ...     1.392      5099.1  yes\n",
       "38580   78      retired  divorced  ...     0.720      5017.5   no\n",
       "33287   43       admin.   married  ...     1.291      5099.1   no\n",
       "11791   50  blue-collar   married  ...     4.959      5228.1   no\n",
       "\n",
       "[10 rows x 21 columns]"
      ]
     },
     "execution_count": 5,
     "metadata": {},
     "output_type": "execute_result"
    }
   ],
   "source": [
    "df.sample(10)"
   ]
  },
  {
   "cell_type": "code",
   "execution_count": null,
   "metadata": {
    "colab": {
     "base_uri": "https://localhost:8080/"
    },
    "id": "UeSgo2_8_MBd",
    "outputId": "e72c1f17-2822-4bd5-9897-262ee594b61c"
   },
   "outputs": [
    {
     "name": "stdout",
     "output_type": "stream",
     "text": [
      "<class 'pandas.core.frame.DataFrame'>\n",
      "RangeIndex: 41188 entries, 0 to 41187\n",
      "Data columns (total 21 columns):\n",
      " #   Column          Non-Null Count  Dtype  \n",
      "---  ------          --------------  -----  \n",
      " 0   age             41188 non-null  int64  \n",
      " 1   job             41188 non-null  object \n",
      " 2   marital         41188 non-null  object \n",
      " 3   education       41188 non-null  object \n",
      " 4   default         41188 non-null  object \n",
      " 5   housing         41188 non-null  object \n",
      " 6   loan            41188 non-null  object \n",
      " 7   contact         41188 non-null  object \n",
      " 8   month           41188 non-null  object \n",
      " 9   day_of_week     41188 non-null  object \n",
      " 10  duration        41188 non-null  int64  \n",
      " 11  campaign        41188 non-null  int64  \n",
      " 12  pdays           41188 non-null  int64  \n",
      " 13  previous        41188 non-null  int64  \n",
      " 14  poutcome        41188 non-null  object \n",
      " 15  emp.var.rate    41188 non-null  float64\n",
      " 16  cons.price.idx  41188 non-null  float64\n",
      " 17  cons.conf.idx   41188 non-null  float64\n",
      " 18  euribor3m       41188 non-null  float64\n",
      " 19  nr.employed     41188 non-null  float64\n",
      " 20  y               41188 non-null  object \n",
      "dtypes: float64(5), int64(5), object(11)\n",
      "memory usage: 6.6+ MB\n"
     ]
    }
   ],
   "source": [
    "df.info()"
   ]
  },
  {
   "cell_type": "markdown",
   "metadata": {
    "id": "A5zj6DbOlWPR"
   },
   "source": [
    "Lets take a look at the datasheet that accompanies our csv:"
   ]
  },
  {
   "cell_type": "code",
   "execution_count": null,
   "metadata": {
    "colab": {
     "base_uri": "https://localhost:8080/"
    },
    "id": "sHzScsa6lGjM",
    "outputId": "cfec6e76-7cff-4273-99d0-d3216a446b39"
   },
   "outputs": [
    {
     "name": "stdout",
     "output_type": "stream",
     "text": [
      "   Input variables:\r\n",
      "   # bank client data:\r\n",
      "   1 - age (numeric)\r\n",
      "   2 - job : type of job (categorical: \"admin.\",\"blue-collar\",\"entrepreneur\",\"housemaid\",\"management\",\"retired\",\"self-employed\",\"services\",\"student\",\"technician\",\"unemployed\",\"unknown\")\r\n",
      "   3 - marital : marital status (categorical: \"divorced\",\"married\",\"single\",\"unknown\"; note: \"divorced\" means divorced or widowed)\r\n",
      "   4 - education (categorical: \"basic.4y\",\"basic.6y\",\"basic.9y\",\"high.school\",\"illiterate\",\"professional.course\",\"university.degree\",\"unknown\")\r\n",
      "   5 - default: has credit in default? (categorical: \"no\",\"yes\",\"unknown\")\r\n",
      "   6 - housing: has housing loan? (categorical: \"no\",\"yes\",\"unknown\")\r\n",
      "   7 - loan: has personal loan? (categorical: \"no\",\"yes\",\"unknown\")\r\n",
      "   # related with the last contact of the current campaign:\r\n",
      "   8 - contact: contact communication type (categorical: \"cellular\",\"telephone\") \r\n",
      "   9 - month: last contact month of year (categorical: \"jan\", \"feb\", \"mar\", ..., \"nov\", \"dec\")\r\n",
      "  10 - day_of_week: last contact day of the week (categorical: \"mon\",\"tue\",\"wed\",\"thu\",\"fri\")\r\n",
      "  11 - duration: last contact duration, in seconds (numeric). Important note:  this attribute highly affects the output target (e.g., if duration=0 then y=\"no\"). Yet, the duration is not known before a call is performed. Also, after the end of the call y is obviously known. Thus, this input should only be included for benchmark purposes and should be discarded if the intention is to have a realistic predictive model.\r\n",
      "   # other attributes:\r\n",
      "  12 - campaign: number of contacts performed during this campaign and for this client (numeric, includes last contact)\r\n",
      "  13 - pdays: number of days that passed by after the client was last contacted from a previous campaign (numeric; 999 means client was not previously contacted)\r\n",
      "  14 - previous: number of contacts performed before this campaign and for this client (numeric)\r\n",
      "  15 - poutcome: outcome of the previous marketing campaign (categorical: \"failure\",\"nonexistent\",\"success\")\r\n",
      "   # social and economic context attributes\r\n",
      "  16 - emp.var.rate: employment variation rate - quarterly indicator (numeric)\r\n",
      "  17 - cons.price.idx: consumer price index - monthly indicator (numeric)     \r\n",
      "  18 - cons.conf.idx: consumer confidence index - monthly indicator (numeric)     \r\n",
      "  19 - euribor3m: euribor 3 month rate - daily indicator (numeric)\r\n",
      "  20 - nr.employed: number of employees - quarterly indicator (numeric)\r\n",
      "\r\n",
      "  Output variable (desired target):\r\n",
      "  21 - y - has the client subscribed a term deposit? (binary: \"yes\",\"no\")\r\n",
      "\r\n",
      "8. Missing Attribute Values: There are several missing values in some categorical attributes, all coded with the \"unknown\" label. These missing values can be treated as a possible class label or using deletion or imputation techniques. \r\n"
     ]
    }
   ],
   "source": [
    "!sed -n '/^\\s*Input variables/,/^8./p' bank-additional-names.txt"
   ]
  },
  {
   "cell_type": "markdown",
   "metadata": {
    "id": "sI8nVJGYmDZX"
   },
   "source": [
    "We see that there is mix of real values (numeric) and categorical values (strings).  Our classifier will not be able to handle these strings directly so we need to convert them.\n",
    "\n",
    "In the following cell, encode these categorical values into numerical values so they can be used in a network."
   ]
  },
  {
   "cell_type": "code",
   "execution_count": null,
   "metadata": {
    "colab": {
     "base_uri": "https://localhost:8080/",
     "height": 215
    },
    "id": "HwYsHSr6lTrU",
    "outputId": "f904d1ad-deda-4974-8227-736e0113ae6a"
   },
   "outputs": [
    {
     "ename": "NameError",
     "evalue": "ignored",
     "output_type": "error",
     "traceback": [
      "\u001b[0;31m---------------------------------------------------------------------------\u001b[0m",
      "\u001b[0;31mNameError\u001b[0m                                 Traceback (most recent call last)",
      "\u001b[0;32m<ipython-input-8-7219ccbe51b8>\u001b[0m in \u001b[0;36m<module>\u001b[0;34m()\u001b[0m\n\u001b[1;32m      3\u001b[0m   \u001b[0;32mreturn\u001b[0m \u001b[0mdf\u001b[0m\u001b[0;34m\u001b[0m\u001b[0;34m\u001b[0m\u001b[0m\n\u001b[1;32m      4\u001b[0m \u001b[0;34m\u001b[0m\u001b[0m\n\u001b[0;32m----> 5\u001b[0;31m \u001b[0mdf\u001b[0m \u001b[0;34m=\u001b[0m \u001b[0mprep_data\u001b[0m\u001b[0;34m(\u001b[0m\u001b[0mdf\u001b[0m\u001b[0;34m,\u001b[0m \u001b[0mcategoricals\u001b[0m\u001b[0;34m)\u001b[0m\u001b[0;34m\u001b[0m\u001b[0;34m\u001b[0m\u001b[0m\n\u001b[0m\u001b[1;32m      6\u001b[0m \u001b[0mdf\u001b[0m\u001b[0;34m.\u001b[0m\u001b[0mhead\u001b[0m\u001b[0;34m(\u001b[0m\u001b[0;34m)\u001b[0m\u001b[0;34m\u001b[0m\u001b[0;34m\u001b[0m\u001b[0m\n",
      "\u001b[0;31mNameError\u001b[0m: name 'categoricals' is not defined"
     ]
    }
   ],
   "source": [
    "def prep_data(df: pd.DataFrame, cols: List[str]) -> pd.DataFrame:\n",
    "  # Your code goes here\n",
    "  return df\n",
    "\n",
    "df = prep_data(df, categoricals)\n",
    "df.head()\n"
   ]
  },
  {
   "cell_type": "code",
   "execution_count": null,
   "metadata": {
    "id": "4uIMiy1lA2y6"
   },
   "outputs": [],
   "source": [
    "df[categoricals].sample(5)"
   ]
  },
  {
   "cell_type": "markdown",
   "metadata": {
    "id": "qzfxEfORnIQP"
   },
   "source": [
    "Next, we need to split the data into training and test data. "
   ]
  },
  {
   "cell_type": "code",
   "execution_count": null,
   "metadata": {
    "id": "40FB8bnSlTrV"
   },
   "outputs": [],
   "source": [
    "def trainval_test_split(df: pd.DataFrame, targetPct=0.80, stratified_on: Union[str, List] = 'y') -> Tuple[pd.DataFrame, pd.DataFrame]:\n",
    "    # Your code goes here\n",
    "    return trainval, test\n",
    "\n",
    "trainval, test = trainval_test_split(df, targetPct=0.90)\n"
   ]
  },
  {
   "cell_type": "markdown",
   "metadata": {
    "id": "ihVL6kpGo2qV"
   },
   "source": [
    "Instead of specifying a single validation set, lets use cross validation.  Write a function to assign validation folds the our trainval dataframe.  Again, make these folds stratified. "
   ]
  },
  {
   "cell_type": "code",
   "execution_count": null,
   "metadata": {
    "id": "KbUjPQollTrV"
   },
   "outputs": [],
   "source": [
    "def assign_kfold(trainval, n_splits=5):\n",
    "    # Your code goes here\n",
    "    return trainval\n",
    "\n",
    "trainval = assign_kfold(trainval, n_splits=5)\n",
    "\n"
   ]
  },
  {
   "cell_type": "markdown",
   "metadata": {
    "id": "tHCLG9SZpaoe"
   },
   "source": [
    "Now lets get into building and training our model."
   ]
  },
  {
   "cell_type": "markdown",
   "metadata": {
    "id": "OLz7pCSgpaM-"
   },
   "source": [
    "Now that our data is preped and our environment is setup, we need to build a our model, as well as our training loop. \n",
    "\n",
    "Lets start with our model.  In the next cell write code that defines your deep learning model\n",
    "\n"
   ]
  },
  {
   "cell_type": "code",
   "execution_count": null,
   "metadata": {
    "id": "Agurh4iClTrY"
   },
   "outputs": [],
   "source": [
    "# Your code goes here"
   ]
  },
  {
   "cell_type": "markdown",
   "metadata": {
    "id": "qhg4JRmtrC6i"
   },
   "source": [
    "Now that we have a model built, write code to train your model on input data.  Remember to have an input that specifies the validation fold you wish to use!"
   ]
  },
  {
   "cell_type": "code",
   "execution_count": null,
   "metadata": {
    "id": "ntJJU3-ai6zX"
   },
   "outputs": [],
   "source": [
    "  # Your code goes here"
   ]
  },
  {
   "cell_type": "markdown",
   "metadata": {
    "id": "KtkkOjd4rYKa"
   },
   "source": [
    "Now train your model and optionally tune your hyperparameters!\n",
    "\n",
    "Tip: If you are logging to tensorboard, you can view your logs with this snippet (run in a separate cell before your training code):\n",
    "\n",
    "```\n",
    "%load_ext tensorboard\n",
    "%tensorboard --logdir ./logs\n",
    "```\n",
    "\n"
   ]
  },
  {
   "cell_type": "code",
   "execution_count": null,
   "metadata": {
    "id": "eFep8TCIlTrZ"
   },
   "outputs": [],
   "source": [
    "  # Your code goes here"
   ]
  }
 ],
 "metadata": {
  "colab": {
   "collapsed_sections": [],
   "name": "module-4-pre-class-question",
   "provenance": []
  },
  "interpreter": {
   "hash": "7f7ac8c2733de0f226f62d5784c940013cd0bd8ae6dfaf1a86999a77d99a6979"
  },
  "kernelspec": {
   "display_name": "Python 3 (ipykernel)",
   "language": "python",
   "name": "python3"
  },
  "language_info": {
   "codemirror_mode": {
    "name": "ipython",
    "version": 3
   },
   "file_extension": ".py",
   "mimetype": "text/x-python",
   "name": "python",
   "nbconvert_exporter": "python",
   "pygments_lexer": "ipython3",
   "version": "3.9.7"
  }
 },
 "nbformat": 4,
 "nbformat_minor": 1
}
